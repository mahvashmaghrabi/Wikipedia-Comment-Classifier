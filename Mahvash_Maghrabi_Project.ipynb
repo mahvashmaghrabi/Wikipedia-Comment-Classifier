{
 "cells": [
  {
   "cell_type": "markdown",
   "id": "1a37f7fa",
   "metadata": {},
   "source": [
    " # Project: Identifying Personal Attacks in Wikipedia Comments "
   ]
  },
  {
   "cell_type": "markdown",
   "id": "917e0d7c",
   "metadata": {},
   "source": [
    "# Importing librarires"
   ]
  },
  {
   "cell_type": "code",
   "execution_count": 285,
   "id": "57d019f2",
   "metadata": {},
   "outputs": [],
   "source": [
    "import pandas as pd\n",
    "import numpy as np\n",
    "import urllib\n",
    "import re\n",
    "import string\n",
    "import unidecode\n",
    "import nltk\n",
    "import matplotlib.pyplot as plt\n",
    "import seaborn as sns\n",
    "from spacy.lang.en import English\n",
    "from nltk.corpus import stopwords\n",
    "from sklearn.pipeline import Pipeline\n",
    "from sklearn.feature_extraction.text import CountVectorizer\n",
    "from sklearn.feature_extraction.text import TfidfTransformer\n",
    "from sklearn.tree import DecisionTreeClassifier\n",
    "from sklearn.metrics import confusion_matrix\n",
    "from sklearn.metrics import classification_report\n",
    "from sklearn import metrics\n",
    "from sklearn.model_selection import cross_validate\n",
    "from sklearn.linear_model import LogisticRegression\n",
    "from sklearn.ensemble import RandomForestClassifier\n",
    "from sklearn.naive_bayes import MultinomialNB\n",
    "from sklearn.linear_model import SGDClassifier\n",
    "from sklearn.neighbors import KNeighborsClassifier\n",
    "from sklearn.model_selection import RepeatedStratifiedKFold\n",
    "from sklearn.model_selection import GridSearchCV\n",
    "from sklearn.svm import LinearSVC\n",
    "from sklearn.linear_model import Perceptron\n",
    "from nltk.stem import PorterStemmer\n",
    "from nltk.stem import WordNetLemmatizer\n",
    "from sklearn.model_selection import train_test_split\n",
    "from scipy.stats import loguniform\n",
    "from sklearn.model_selection import RandomizedSearchCV\n",
    "from collections import Counter\n",
    "from sklearn.datasets import make_classification\n",
    "from imblearn.under_sampling import RandomUnderSampler"
   ]
  },
  {
   "cell_type": "markdown",
   "id": "694c28de",
   "metadata": {},
   "source": [
    "# Downloading the dataset"
   ]
  },
  {
   "cell_type": "code",
   "execution_count": 202,
   "id": "13c3ea81",
   "metadata": {},
   "outputs": [],
   "source": [
    "ANNOTATED_COMMENTS_URL = 'https://ndownloader.figshare.com/files/7554634' \n",
    "ANNOTATIONS_URL = 'https://ndownloader.figshare.com/files/7554637' \n",
    "\n",
    "def download_file(url, fname):\n",
    "    urllib.request.urlretrieve(url, fname)\n",
    "            \n",
    "download_file(ANNOTATED_COMMENTS_URL, 'attack_annotated_comments.tsv')\n",
    "download_file(ANNOTATIONS_URL, 'attack_annotations.tsv')"
   ]
  },
  {
   "cell_type": "markdown",
   "id": "30d92417",
   "metadata": {},
   "source": [
    "# Reading the dataset"
   ]
  },
  {
   "cell_type": "code",
   "execution_count": 203,
   "id": "2f59c668",
   "metadata": {},
   "outputs": [],
   "source": [
    "comments = pd.read_csv('attack_annotated_comments.tsv', sep = '\\t', index_col = 0)\n",
    "annotations = pd.read_csv('attack_annotations.tsv',  sep = '\\t')"
   ]
  },
  {
   "cell_type": "code",
   "execution_count": 204,
   "id": "d8457948",
   "metadata": {},
   "outputs": [],
   "source": [
    "# labels a comment as an atack if the majority of annotatators did so\n",
    "labels = annotations.groupby('rev_id')['attack'].mean() > 0.5\n",
    "# join labels and comments\n",
    "comments['attack'] = labels"
   ]
  },
  {
   "cell_type": "code",
   "execution_count": 205,
   "id": "346f7594",
   "metadata": {},
   "outputs": [
    {
     "data": {
      "text/html": [
       "<div>\n",
       "<style scoped>\n",
       "    .dataframe tbody tr th:only-of-type {\n",
       "        vertical-align: middle;\n",
       "    }\n",
       "\n",
       "    .dataframe tbody tr th {\n",
       "        vertical-align: top;\n",
       "    }\n",
       "\n",
       "    .dataframe thead th {\n",
       "        text-align: right;\n",
       "    }\n",
       "</style>\n",
       "<table border=\"1\" class=\"dataframe\">\n",
       "  <thead>\n",
       "    <tr style=\"text-align: right;\">\n",
       "      <th></th>\n",
       "      <th>comment</th>\n",
       "      <th>year</th>\n",
       "      <th>logged_in</th>\n",
       "      <th>ns</th>\n",
       "      <th>sample</th>\n",
       "      <th>split</th>\n",
       "      <th>attack</th>\n",
       "    </tr>\n",
       "    <tr>\n",
       "      <th>rev_id</th>\n",
       "      <th></th>\n",
       "      <th></th>\n",
       "      <th></th>\n",
       "      <th></th>\n",
       "      <th></th>\n",
       "      <th></th>\n",
       "      <th></th>\n",
       "    </tr>\n",
       "  </thead>\n",
       "  <tbody>\n",
       "    <tr>\n",
       "      <th>37675</th>\n",
       "      <td>`-NEWLINE_TOKENThis is not ``creative``.  Thos...</td>\n",
       "      <td>2002</td>\n",
       "      <td>False</td>\n",
       "      <td>article</td>\n",
       "      <td>random</td>\n",
       "      <td>train</td>\n",
       "      <td>False</td>\n",
       "    </tr>\n",
       "    <tr>\n",
       "      <th>44816</th>\n",
       "      <td>`NEWLINE_TOKENNEWLINE_TOKEN:: the term ``stand...</td>\n",
       "      <td>2002</td>\n",
       "      <td>False</td>\n",
       "      <td>article</td>\n",
       "      <td>random</td>\n",
       "      <td>train</td>\n",
       "      <td>False</td>\n",
       "    </tr>\n",
       "    <tr>\n",
       "      <th>49851</th>\n",
       "      <td>NEWLINE_TOKENNEWLINE_TOKENTrue or false, the s...</td>\n",
       "      <td>2002</td>\n",
       "      <td>False</td>\n",
       "      <td>article</td>\n",
       "      <td>random</td>\n",
       "      <td>train</td>\n",
       "      <td>False</td>\n",
       "    </tr>\n",
       "    <tr>\n",
       "      <th>89320</th>\n",
       "      <td>Next, maybe you could work on being less cond...</td>\n",
       "      <td>2002</td>\n",
       "      <td>True</td>\n",
       "      <td>article</td>\n",
       "      <td>random</td>\n",
       "      <td>dev</td>\n",
       "      <td>False</td>\n",
       "    </tr>\n",
       "    <tr>\n",
       "      <th>93890</th>\n",
       "      <td>This page will need disambiguation.</td>\n",
       "      <td>2002</td>\n",
       "      <td>True</td>\n",
       "      <td>article</td>\n",
       "      <td>random</td>\n",
       "      <td>train</td>\n",
       "      <td>False</td>\n",
       "    </tr>\n",
       "  </tbody>\n",
       "</table>\n",
       "</div>"
      ],
      "text/plain": [
       "                                                  comment  year  logged_in  \\\n",
       "rev_id                                                                       \n",
       "37675   `-NEWLINE_TOKENThis is not ``creative``.  Thos...  2002      False   \n",
       "44816   `NEWLINE_TOKENNEWLINE_TOKEN:: the term ``stand...  2002      False   \n",
       "49851   NEWLINE_TOKENNEWLINE_TOKENTrue or false, the s...  2002      False   \n",
       "89320    Next, maybe you could work on being less cond...  2002       True   \n",
       "93890                This page will need disambiguation.   2002       True   \n",
       "\n",
       "             ns  sample  split  attack  \n",
       "rev_id                                  \n",
       "37675   article  random  train   False  \n",
       "44816   article  random  train   False  \n",
       "49851   article  random  train   False  \n",
       "89320   article  random    dev   False  \n",
       "93890   article  random  train   False  "
      ]
     },
     "execution_count": 205,
     "metadata": {},
     "output_type": "execute_result"
    }
   ],
   "source": [
    "comments.head()"
   ]
  },
  {
   "cell_type": "code",
   "execution_count": 206,
   "id": "ed56ef40",
   "metadata": {},
   "outputs": [
    {
     "data": {
      "text/html": [
       "<div>\n",
       "<style scoped>\n",
       "    .dataframe tbody tr th:only-of-type {\n",
       "        vertical-align: middle;\n",
       "    }\n",
       "\n",
       "    .dataframe tbody tr th {\n",
       "        vertical-align: top;\n",
       "    }\n",
       "\n",
       "    .dataframe thead th {\n",
       "        text-align: right;\n",
       "    }\n",
       "</style>\n",
       "<table border=\"1\" class=\"dataframe\">\n",
       "  <thead>\n",
       "    <tr style=\"text-align: right;\">\n",
       "      <th></th>\n",
       "      <th>year</th>\n",
       "    </tr>\n",
       "  </thead>\n",
       "  <tbody>\n",
       "    <tr>\n",
       "      <th>count</th>\n",
       "      <td>115864.000000</td>\n",
       "    </tr>\n",
       "    <tr>\n",
       "      <th>mean</th>\n",
       "      <td>2009.224306</td>\n",
       "    </tr>\n",
       "    <tr>\n",
       "      <th>std</th>\n",
       "      <td>2.900431</td>\n",
       "    </tr>\n",
       "    <tr>\n",
       "      <th>min</th>\n",
       "      <td>2001.000000</td>\n",
       "    </tr>\n",
       "    <tr>\n",
       "      <th>25%</th>\n",
       "      <td>2007.000000</td>\n",
       "    </tr>\n",
       "    <tr>\n",
       "      <th>50%</th>\n",
       "      <td>2009.000000</td>\n",
       "    </tr>\n",
       "    <tr>\n",
       "      <th>75%</th>\n",
       "      <td>2011.000000</td>\n",
       "    </tr>\n",
       "    <tr>\n",
       "      <th>max</th>\n",
       "      <td>2016.000000</td>\n",
       "    </tr>\n",
       "  </tbody>\n",
       "</table>\n",
       "</div>"
      ],
      "text/plain": [
       "                year\n",
       "count  115864.000000\n",
       "mean     2009.224306\n",
       "std         2.900431\n",
       "min      2001.000000\n",
       "25%      2007.000000\n",
       "50%      2009.000000\n",
       "75%      2011.000000\n",
       "max      2016.000000"
      ]
     },
     "execution_count": 206,
     "metadata": {},
     "output_type": "execute_result"
    }
   ],
   "source": [
    "comments.describe()"
   ]
  },
  {
   "cell_type": "markdown",
   "id": "1ba65fa2",
   "metadata": {},
   "source": [
    "# Data Cleaning"
   ]
  },
  {
   "cell_type": "code",
   "execution_count": 207,
   "id": "8877170a",
   "metadata": {},
   "outputs": [],
   "source": [
    "# removing newline tokens and tab tokens\n",
    "comments['comment'] = comments['comment'].apply(lambda x: x.replace(\"NEWLINE_TOKEN\", \" \"))\n",
    "comments['comment'] = comments['comment'].apply(lambda x: x.replace(\"TAB_TOKEN\", \" \"))"
   ]
  },
  {
   "cell_type": "code",
   "execution_count": 208,
   "id": "50e8410d",
   "metadata": {},
   "outputs": [],
   "source": [
    "# removing puctuation marks\n",
    "def punctuation(text):\n",
    "    return  re.sub(f'[{re.escape(string.punctuation)}]', '', text)\n",
    "\n",
    "comments['comment'] = comments.comment.apply(punctuation)"
   ]
  },
  {
   "cell_type": "code",
   "execution_count": 209,
   "id": "e067461a",
   "metadata": {},
   "outputs": [],
   "source": [
    "# removing non-english characters and converting text to lower case\n",
    "def non_english(text):\n",
    "    return unidecode.unidecode(text.lower())\n",
    "\n",
    "comments['comment'] = comments.comment.apply(non_english)"
   ]
  },
  {
   "cell_type": "code",
   "execution_count": 210,
   "id": "f8103a2a",
   "metadata": {},
   "outputs": [],
   "source": [
    "# removing non_alphabetic characters\n",
    "def non_alphabetic(text):\n",
    "    regex = re.compile('[^a-zA-Z\\s]')\n",
    "    return regex.sub('', text)\n",
    "\n",
    "comments['comment'] = comments.comment.apply(non_alphabetic)\n"
   ]
  },
  {
   "cell_type": "code",
   "execution_count": 211,
   "id": "16a265a4",
   "metadata": {},
   "outputs": [],
   "source": [
    "# removing stopwords\n",
    "def remove_stopwords(text):\n",
    "    sw = stopwords.words('english')\n",
    "    words = [word for word in text.split() if word.lower() not in sw]\n",
    "    new_text = \" \".join(words)\n",
    "    return new_text\n",
    "\n",
    "comments['comment'] = comments.comment.apply(remove_stopwords)"
   ]
  },
  {
   "cell_type": "code",
   "execution_count": 212,
   "id": "b6293368",
   "metadata": {},
   "outputs": [],
   "source": [
    "comments=comments.reset_index()"
   ]
  },
  {
   "cell_type": "code",
   "execution_count": 213,
   "id": "930616c7",
   "metadata": {},
   "outputs": [],
   "source": [
    "#removing whitespaces\n",
    "def remove_whitespaces(text):\n",
    "    line = text.strip()\n",
    "    return line\n",
    "comments['comment'] = comments.comment.apply(remove_whitespaces)"
   ]
  },
  {
   "cell_type": "code",
   "execution_count": 214,
   "id": "3c3ebbe3",
   "metadata": {},
   "outputs": [
    {
     "data": {
      "text/plain": [
       "'term standard model less npov think wed prefer newage speak lot oldage people speak karl popper pope etc heres karl poppers view clearest title article would particle physics cosmology say would require broader treatment issues like anthropic principle cognitive bias beyond particle physics zoo etc accelerators clear use someone still looking particles yet settled cosmology certain abandon search arbitrary foundation ontology suggest subject question'"
      ]
     },
     "execution_count": 214,
     "metadata": {},
     "output_type": "execute_result"
    }
   ],
   "source": [
    "comments['comment'][1]"
   ]
  },
  {
   "cell_type": "markdown",
   "id": "a439edb8",
   "metadata": {},
   "source": [
    "# Lemmatization and Stemming"
   ]
  },
  {
   "cell_type": "code",
   "execution_count": 215,
   "id": "6d86d571",
   "metadata": {},
   "outputs": [],
   "source": [
    "stemmer = PorterStemmer()\n",
    "lemmatizer = WordNetLemmatizer()\n",
    "\n",
    "\n",
    "def word_stemmer(words):\n",
    "    stem_words = [stemmer.stem(o) for o in words]\n",
    "    return \" \".join(stem_words)\n",
    "def word_lemmatizer(words):\n",
    "    lemma_words = [lemmatizer.lemmatize(o) for o in words]\n",
    "    return \" \".join(lemma_words)"
   ]
  },
  {
   "cell_type": "code",
   "execution_count": 216,
   "id": "0bd01cf1",
   "metadata": {},
   "outputs": [],
   "source": [
    "def lem_stem(dirty_text):\n",
    "    clean_text = word_stemmer(dirty_text.split(\" \"))\n",
    "    return clean_text"
   ]
  },
  {
   "cell_type": "code",
   "execution_count": 217,
   "id": "fe0f1ec3",
   "metadata": {},
   "outputs": [],
   "source": [
    "def lem(dirty_text):\n",
    "    clean_text = word_lemmatizer(dirty_text.split(\" \"))\n",
    "    return clean_text"
   ]
  },
  {
   "cell_type": "code",
   "execution_count": 218,
   "id": "316721f8",
   "metadata": {},
   "outputs": [
    {
     "data": {
      "text/html": [
       "<div>\n",
       "<style scoped>\n",
       "    .dataframe tbody tr th:only-of-type {\n",
       "        vertical-align: middle;\n",
       "    }\n",
       "\n",
       "    .dataframe tbody tr th {\n",
       "        vertical-align: top;\n",
       "    }\n",
       "\n",
       "    .dataframe thead th {\n",
       "        text-align: right;\n",
       "    }\n",
       "</style>\n",
       "<table border=\"1\" class=\"dataframe\">\n",
       "  <thead>\n",
       "    <tr style=\"text-align: right;\">\n",
       "      <th></th>\n",
       "      <th>rev_id</th>\n",
       "      <th>comment</th>\n",
       "      <th>year</th>\n",
       "      <th>logged_in</th>\n",
       "      <th>ns</th>\n",
       "      <th>sample</th>\n",
       "      <th>split</th>\n",
       "      <th>attack</th>\n",
       "    </tr>\n",
       "  </thead>\n",
       "  <tbody>\n",
       "    <tr>\n",
       "      <th>115859</th>\n",
       "      <td>699848324</td>\n",
       "      <td>sources dont exactly exude sense impartiality ...</td>\n",
       "      <td>2016</td>\n",
       "      <td>True</td>\n",
       "      <td>article</td>\n",
       "      <td>blocked</td>\n",
       "      <td>train</td>\n",
       "      <td>False</td>\n",
       "    </tr>\n",
       "    <tr>\n",
       "      <th>115860</th>\n",
       "      <td>699851288</td>\n",
       "      <td>institute historical review peerreviewed journ...</td>\n",
       "      <td>2016</td>\n",
       "      <td>True</td>\n",
       "      <td>article</td>\n",
       "      <td>blocked</td>\n",
       "      <td>test</td>\n",
       "      <td>False</td>\n",
       "    </tr>\n",
       "    <tr>\n",
       "      <th>115861</th>\n",
       "      <td>699857133</td>\n",
       "      <td>way youre trying describe article serious step...</td>\n",
       "      <td>2016</td>\n",
       "      <td>True</td>\n",
       "      <td>article</td>\n",
       "      <td>blocked</td>\n",
       "      <td>train</td>\n",
       "      <td>False</td>\n",
       "    </tr>\n",
       "    <tr>\n",
       "      <th>115862</th>\n",
       "      <td>699891012</td>\n",
       "      <td>warning clearly protectionist regime going wit...</td>\n",
       "      <td>2016</td>\n",
       "      <td>True</td>\n",
       "      <td>user</td>\n",
       "      <td>blocked</td>\n",
       "      <td>dev</td>\n",
       "      <td>False</td>\n",
       "    </tr>\n",
       "    <tr>\n",
       "      <th>115863</th>\n",
       "      <td>699897151</td>\n",
       "      <td>alternate option perhaps enough newsworthy inf...</td>\n",
       "      <td>2016</td>\n",
       "      <td>True</td>\n",
       "      <td>article</td>\n",
       "      <td>blocked</td>\n",
       "      <td>train</td>\n",
       "      <td>False</td>\n",
       "    </tr>\n",
       "  </tbody>\n",
       "</table>\n",
       "</div>"
      ],
      "text/plain": [
       "           rev_id                                            comment  year  \\\n",
       "115859  699848324  sources dont exactly exude sense impartiality ...  2016   \n",
       "115860  699851288  institute historical review peerreviewed journ...  2016   \n",
       "115861  699857133  way youre trying describe article serious step...  2016   \n",
       "115862  699891012  warning clearly protectionist regime going wit...  2016   \n",
       "115863  699897151  alternate option perhaps enough newsworthy inf...  2016   \n",
       "\n",
       "        logged_in       ns   sample  split  attack  \n",
       "115859       True  article  blocked  train   False  \n",
       "115860       True  article  blocked   test   False  \n",
       "115861       True  article  blocked  train   False  \n",
       "115862       True     user  blocked    dev   False  \n",
       "115863       True  article  blocked  train   False  "
      ]
     },
     "execution_count": 218,
     "metadata": {},
     "output_type": "execute_result"
    }
   ],
   "source": [
    "comments.tail()"
   ]
  },
  {
   "cell_type": "code",
   "execution_count": 219,
   "id": "034bb2d6",
   "metadata": {},
   "outputs": [
    {
     "data": {
      "text/plain": [
       "115864"
      ]
     },
     "execution_count": 219,
     "metadata": {},
     "output_type": "execute_result"
    }
   ],
   "source": [
    "len(comments)"
   ]
  },
  {
   "cell_type": "code",
   "execution_count": 220,
   "id": "c6869275",
   "metadata": {},
   "outputs": [],
   "source": [
    "comments.drop(comments.index[90593:-1], inplace=True)"
   ]
  },
  {
   "cell_type": "code",
   "execution_count": 221,
   "id": "c747af45",
   "metadata": {},
   "outputs": [],
   "source": [
    "comments.drop(comments.index[-1],inplace=True)"
   ]
  },
  {
   "cell_type": "code",
   "execution_count": 223,
   "id": "aa7121ab",
   "metadata": {},
   "outputs": [
    {
     "data": {
      "text/html": [
       "<div>\n",
       "<style scoped>\n",
       "    .dataframe tbody tr th:only-of-type {\n",
       "        vertical-align: middle;\n",
       "    }\n",
       "\n",
       "    .dataframe tbody tr th {\n",
       "        vertical-align: top;\n",
       "    }\n",
       "\n",
       "    .dataframe thead th {\n",
       "        text-align: right;\n",
       "    }\n",
       "</style>\n",
       "<table border=\"1\" class=\"dataframe\">\n",
       "  <thead>\n",
       "    <tr style=\"text-align: right;\">\n",
       "      <th></th>\n",
       "      <th>rev_id</th>\n",
       "      <th>comment</th>\n",
       "      <th>year</th>\n",
       "      <th>logged_in</th>\n",
       "      <th>ns</th>\n",
       "      <th>sample</th>\n",
       "      <th>split</th>\n",
       "      <th>attack</th>\n",
       "    </tr>\n",
       "  </thead>\n",
       "  <tbody>\n",
       "    <tr>\n",
       "      <th>90588</th>\n",
       "      <td>487858021</td>\n",
       "      <td>adult manifestations childhood sexual abuse al...</td>\n",
       "      <td>2012</td>\n",
       "      <td>False</td>\n",
       "      <td>user</td>\n",
       "      <td>blocked</td>\n",
       "      <td>train</td>\n",
       "      <td>False</td>\n",
       "    </tr>\n",
       "    <tr>\n",
       "      <th>90589</th>\n",
       "      <td>487859742</td>\n",
       "      <td>exactly problem go play games somebody else li...</td>\n",
       "      <td>2012</td>\n",
       "      <td>True</td>\n",
       "      <td>user</td>\n",
       "      <td>blocked</td>\n",
       "      <td>train</td>\n",
       "      <td>True</td>\n",
       "    </tr>\n",
       "    <tr>\n",
       "      <th>90590</th>\n",
       "      <td>487863318</td>\n",
       "      <td>world tomorrow jeff g feel free phone anytime ...</td>\n",
       "      <td>2012</td>\n",
       "      <td>True</td>\n",
       "      <td>user</td>\n",
       "      <td>blocked</td>\n",
       "      <td>dev</td>\n",
       "      <td>False</td>\n",
       "    </tr>\n",
       "    <tr>\n",
       "      <th>90591</th>\n",
       "      <td>487863449</td>\n",
       "      <td>edit warring noticeboard hi sorry bother opene...</td>\n",
       "      <td>2012</td>\n",
       "      <td>True</td>\n",
       "      <td>user</td>\n",
       "      <td>blocked</td>\n",
       "      <td>dev</td>\n",
       "      <td>False</td>\n",
       "    </tr>\n",
       "    <tr>\n",
       "      <th>90592</th>\n",
       "      <td>487864933</td>\n",
       "      <td>voices wonder one doesnt count proofs consensu...</td>\n",
       "      <td>2012</td>\n",
       "      <td>True</td>\n",
       "      <td>article</td>\n",
       "      <td>blocked</td>\n",
       "      <td>dev</td>\n",
       "      <td>False</td>\n",
       "    </tr>\n",
       "  </tbody>\n",
       "</table>\n",
       "</div>"
      ],
      "text/plain": [
       "          rev_id                                            comment  year  \\\n",
       "90588  487858021  adult manifestations childhood sexual abuse al...  2012   \n",
       "90589  487859742  exactly problem go play games somebody else li...  2012   \n",
       "90590  487863318  world tomorrow jeff g feel free phone anytime ...  2012   \n",
       "90591  487863449  edit warring noticeboard hi sorry bother opene...  2012   \n",
       "90592  487864933  voices wonder one doesnt count proofs consensu...  2012   \n",
       "\n",
       "       logged_in       ns   sample  split  attack  \n",
       "90588      False     user  blocked  train   False  \n",
       "90589       True     user  blocked  train    True  \n",
       "90590       True     user  blocked    dev   False  \n",
       "90591       True     user  blocked    dev   False  \n",
       "90592       True  article  blocked    dev   False  "
      ]
     },
     "execution_count": 223,
     "metadata": {},
     "output_type": "execute_result"
    }
   ],
   "source": [
    "comments.tail()"
   ]
  },
  {
   "cell_type": "code",
   "execution_count": 224,
   "id": "8e9092f0",
   "metadata": {},
   "outputs": [],
   "source": [
    "# Increasing the limit of iterations or comparisons\n",
    "import sys\n",
    "sys.setrecursionlimit(1500)"
   ]
  },
  {
   "cell_type": "code",
   "execution_count": 225,
   "id": "6e7bc779",
   "metadata": {},
   "outputs": [
    {
     "name": "stderr",
     "output_type": "stream",
     "text": [
      "/Library/Frameworks/Python.framework/Versions/3.7/lib/python3.7/site-packages/ipykernel_launcher.py:2: SettingWithCopyWarning: \n",
      "A value is trying to be set on a copy of a slice from a DataFrame\n",
      "\n",
      "See the caveats in the documentation: https://pandas.pydata.org/pandas-docs/stable/user_guide/indexing.html#returning-a-view-versus-a-copy\n",
      "  \n",
      "/Library/Frameworks/Python.framework/Versions/3.7/lib/python3.7/site-packages/ipykernel_launcher.py:5: SettingWithCopyWarning: \n",
      "A value is trying to be set on a copy of a slice from a DataFrame\n",
      "\n",
      "See the caveats in the documentation: https://pandas.pydata.org/pandas-docs/stable/user_guide/indexing.html#returning-a-view-versus-a-copy\n",
      "  \"\"\"\n"
     ]
    }
   ],
   "source": [
    "for i in range (0, 57000):\n",
    "    comments['comment'][i] = lem_stem(comments['comment'][i])\n",
    "\n",
    "for i in range (57000, 80000):\n",
    "    comments['comment'][i] = lem_stem(comments['comment'][i])\n",
    "    "
   ]
  },
  {
   "cell_type": "code",
   "execution_count": 226,
   "id": "856f7143",
   "metadata": {},
   "outputs": [
    {
     "name": "stderr",
     "output_type": "stream",
     "text": [
      "/Library/Frameworks/Python.framework/Versions/3.7/lib/python3.7/site-packages/ipykernel_launcher.py:2: SettingWithCopyWarning: \n",
      "A value is trying to be set on a copy of a slice from a DataFrame\n",
      "\n",
      "See the caveats in the documentation: https://pandas.pydata.org/pandas-docs/stable/user_guide/indexing.html#returning-a-view-versus-a-copy\n",
      "  \n"
     ]
    }
   ],
   "source": [
    "for i in range (80000, len(comments)):\n",
    "    comments['comment'][i] = lem_stem(comments['comment'][i])"
   ]
  },
  {
   "cell_type": "code",
   "execution_count": 227,
   "id": "63800892",
   "metadata": {},
   "outputs": [
    {
     "name": "stderr",
     "output_type": "stream",
     "text": [
      "/Library/Frameworks/Python.framework/Versions/3.7/lib/python3.7/site-packages/ipykernel_launcher.py:2: SettingWithCopyWarning: \n",
      "A value is trying to be set on a copy of a slice from a DataFrame\n",
      "\n",
      "See the caveats in the documentation: https://pandas.pydata.org/pandas-docs/stable/user_guide/indexing.html#returning-a-view-versus-a-copy\n",
      "  \n"
     ]
    }
   ],
   "source": [
    "for i in range (0, len(comments)):\n",
    "    comments['comment'][i] = lem(comments['comment'][i])"
   ]
  },
  {
   "cell_type": "code",
   "execution_count": 228,
   "id": "dea221ea",
   "metadata": {},
   "outputs": [
    {
     "data": {
      "text/html": [
       "<div>\n",
       "<style scoped>\n",
       "    .dataframe tbody tr th:only-of-type {\n",
       "        vertical-align: middle;\n",
       "    }\n",
       "\n",
       "    .dataframe tbody tr th {\n",
       "        vertical-align: top;\n",
       "    }\n",
       "\n",
       "    .dataframe thead th {\n",
       "        text-align: right;\n",
       "    }\n",
       "</style>\n",
       "<table border=\"1\" class=\"dataframe\">\n",
       "  <thead>\n",
       "    <tr style=\"text-align: right;\">\n",
       "      <th></th>\n",
       "      <th>rev_id</th>\n",
       "      <th>comment</th>\n",
       "      <th>year</th>\n",
       "      <th>logged_in</th>\n",
       "      <th>ns</th>\n",
       "      <th>sample</th>\n",
       "      <th>split</th>\n",
       "      <th>attack</th>\n",
       "    </tr>\n",
       "  </thead>\n",
       "  <tbody>\n",
       "    <tr>\n",
       "      <th>90588</th>\n",
       "      <td>487858021</td>\n",
       "      <td>adult manifest childhood sexual abus allianc a...</td>\n",
       "      <td>2012</td>\n",
       "      <td>False</td>\n",
       "      <td>user</td>\n",
       "      <td>blocked</td>\n",
       "      <td>train</td>\n",
       "      <td>False</td>\n",
       "    </tr>\n",
       "    <tr>\n",
       "      <th>90589</th>\n",
       "      <td>487859742</td>\n",
       "      <td>exactli problem go play game somebodi el littl...</td>\n",
       "      <td>2012</td>\n",
       "      <td>True</td>\n",
       "      <td>user</td>\n",
       "      <td>blocked</td>\n",
       "      <td>train</td>\n",
       "      <td>True</td>\n",
       "    </tr>\n",
       "    <tr>\n",
       "      <th>90590</th>\n",
       "      <td>487863318</td>\n",
       "      <td>world tomorrow jeff g feel free phone anytim w...</td>\n",
       "      <td>2012</td>\n",
       "      <td>True</td>\n",
       "      <td>user</td>\n",
       "      <td>blocked</td>\n",
       "      <td>dev</td>\n",
       "      <td>False</td>\n",
       "    </tr>\n",
       "    <tr>\n",
       "      <th>90591</th>\n",
       "      <td>487863449</td>\n",
       "      <td>edit war noticeboard hi sorri bother open anot...</td>\n",
       "      <td>2012</td>\n",
       "      <td>True</td>\n",
       "      <td>user</td>\n",
       "      <td>blocked</td>\n",
       "      <td>dev</td>\n",
       "      <td>False</td>\n",
       "    </tr>\n",
       "    <tr>\n",
       "      <th>90592</th>\n",
       "      <td>487864933</td>\n",
       "      <td>voic wonder one doesnt count proof consensu ma...</td>\n",
       "      <td>2012</td>\n",
       "      <td>True</td>\n",
       "      <td>article</td>\n",
       "      <td>blocked</td>\n",
       "      <td>dev</td>\n",
       "      <td>False</td>\n",
       "    </tr>\n",
       "  </tbody>\n",
       "</table>\n",
       "</div>"
      ],
      "text/plain": [
       "          rev_id                                            comment  year  \\\n",
       "90588  487858021  adult manifest childhood sexual abus allianc a...  2012   \n",
       "90589  487859742  exactli problem go play game somebodi el littl...  2012   \n",
       "90590  487863318  world tomorrow jeff g feel free phone anytim w...  2012   \n",
       "90591  487863449  edit war noticeboard hi sorri bother open anot...  2012   \n",
       "90592  487864933  voic wonder one doesnt count proof consensu ma...  2012   \n",
       "\n",
       "       logged_in       ns   sample  split  attack  \n",
       "90588      False     user  blocked  train   False  \n",
       "90589       True     user  blocked  train    True  \n",
       "90590       True     user  blocked    dev   False  \n",
       "90591       True     user  blocked    dev   False  \n",
       "90592       True  article  blocked    dev   False  "
      ]
     },
     "execution_count": 228,
     "metadata": {},
     "output_type": "execute_result"
    }
   ],
   "source": [
    "comments.tail()"
   ]
  },
  {
   "cell_type": "markdown",
   "id": "3348d32e",
   "metadata": {},
   "source": [
    "# Data Visualization"
   ]
  },
  {
   "cell_type": "code",
   "execution_count": 229,
   "id": "bf45636d",
   "metadata": {},
   "outputs": [
    {
     "data": {
      "text/plain": [
       "False    79738\n",
       "True     10855\n",
       "Name: attack, dtype: int64"
      ]
     },
     "execution_count": 229,
     "metadata": {},
     "output_type": "execute_result"
    }
   ],
   "source": [
    "comments['attack'].value_counts()"
   ]
  },
  {
   "cell_type": "code",
   "execution_count": 230,
   "id": "1ce77771",
   "metadata": {},
   "outputs": [
    {
     "data": {
      "text/plain": [
       "array([2002, 2001, 2003, 2004, 2005, 2006, 2007, 2008, 2009, 2010, 2011,\n",
       "       2012])"
      ]
     },
     "execution_count": 230,
     "metadata": {},
     "output_type": "execute_result"
    }
   ],
   "source": [
    "comments['year'].unique()"
   ]
  },
  {
   "cell_type": "code",
   "execution_count": 231,
   "id": "66a155ab",
   "metadata": {},
   "outputs": [
    {
     "data": {
      "text/plain": [
       "Text(0.5, 1.0, 'Attack v/s Non-Attack')"
      ]
     },
     "execution_count": 231,
     "metadata": {},
     "output_type": "execute_result"
    },
    {
     "data": {
      "image/png": "[encoded data removed]",
      "text/plain": [
       "<Figure size 432x288 with 1 Axes>"
      ]
     },
     "metadata": {
      "needs_background": "light"
     },
     "output_type": "display_data"
    }
   ],
   "source": [
    "comments.groupby('attack').size().plot(kind='bar', xlabel='Attack', ylabel='No. of Attacks')\n",
    "plt.title('Attack v/s Non-Attack')"
   ]
  },
  {
   "cell_type": "code",
   "execution_count": 232,
   "id": "fb5da781",
   "metadata": {},
   "outputs": [],
   "source": [
    "total_years = comments[comments['attack'] == False].groupby('year')['attack'].count()"
   ]
  },
  {
   "cell_type": "code",
   "execution_count": 233,
   "id": "04d958be",
   "metadata": {},
   "outputs": [
    {
     "data": {
      "text/plain": [
       "Text(0.5, 1.0, 'Attack v/s Year')"
      ]
     },
     "execution_count": 233,
     "metadata": {},
     "output_type": "execute_result"
    },
    {
     "data": {
      "image/png": "[encoded data removed]",
      "text/plain": [
       "<Figure size 432x288 with 1 Axes>"
      ]
     },
     "metadata": {
      "needs_background": "light"
     },
     "output_type": "display_data"
    }
   ],
   "source": [
    "total_years.plot(kind='bar', xlabel='Year', ylabel='Attack')\n",
    "plt.title('Attack v/s Year')"
   ]
  },
  {
   "cell_type": "code",
   "execution_count": 234,
   "id": "1a5e492c",
   "metadata": {},
   "outputs": [],
   "source": [
    "total_users = comments[comments['logged_in'] == True].groupby('attack')['logged_in'].count()"
   ]
  },
  {
   "cell_type": "code",
   "execution_count": 235,
   "id": "91f5ed95",
   "metadata": {},
   "outputs": [
    {
     "data": {
      "text/plain": [
       "Text(0.5, 1.0, 'Attack v/s Logged_In')"
      ]
     },
     "execution_count": 235,
     "metadata": {},
     "output_type": "execute_result"
    },
    {
     "data": {
      "image/png": "[encoded data removed]",
      "text/plain": [
       "<Figure size 432x288 with 1 Axes>"
      ]
     },
     "metadata": {
      "needs_background": "light"
     },
     "output_type": "display_data"
    }
   ],
   "source": [
    "total_users.plot(kind='bar', xlabel='Logged_In', ylabel='Attack')\n",
    "plt.title('Attack v/s Logged_In')"
   ]
  },
  {
   "cell_type": "markdown",
   "id": "cd53571b",
   "metadata": {},
   "source": [
    "# Feature Extraction"
   ]
  },
  {
   "cell_type": "code",
   "execution_count": 236,
   "id": "527d21d4",
   "metadata": {},
   "outputs": [],
   "source": [
    "c_list = comments['comment']"
   ]
  },
  {
   "cell_type": "code",
   "execution_count": 237,
   "id": "9b19ae30",
   "metadata": {},
   "outputs": [],
   "source": [
    "vocabulary = []"
   ]
  },
  {
   "cell_type": "code",
   "execution_count": 238,
   "id": "1206ad55",
   "metadata": {},
   "outputs": [],
   "source": [
    "for i in c_list:\n",
    "    for j in i.split():\n",
    "        if j not in vocabulary:\n",
    "            vocabulary.append(j)"
   ]
  },
  {
   "cell_type": "code",
   "execution_count": 239,
   "id": "a7e563bd",
   "metadata": {},
   "outputs": [
    {
     "data": {
      "text/html": [
       "<div>\n",
       "<style scoped>\n",
       "    .dataframe tbody tr th:only-of-type {\n",
       "        vertical-align: middle;\n",
       "    }\n",
       "\n",
       "    .dataframe tbody tr th {\n",
       "        vertical-align: top;\n",
       "    }\n",
       "\n",
       "    .dataframe thead th {\n",
       "        text-align: right;\n",
       "    }\n",
       "</style>\n",
       "<table border=\"1\" class=\"dataframe\">\n",
       "  <thead>\n",
       "    <tr style=\"text-align: right;\">\n",
       "      <th></th>\n",
       "      <th>rev_id</th>\n",
       "      <th>comment</th>\n",
       "      <th>year</th>\n",
       "      <th>logged_in</th>\n",
       "      <th>ns</th>\n",
       "      <th>sample</th>\n",
       "      <th>split</th>\n",
       "      <th>attack</th>\n",
       "    </tr>\n",
       "  </thead>\n",
       "  <tbody>\n",
       "    <tr>\n",
       "      <th>0</th>\n",
       "      <td>37675</td>\n",
       "      <td>creativ dictionari definit term insur ensur pr...</td>\n",
       "      <td>2002</td>\n",
       "      <td>False</td>\n",
       "      <td>article</td>\n",
       "      <td>random</td>\n",
       "      <td>train</td>\n",
       "      <td>False</td>\n",
       "    </tr>\n",
       "    <tr>\n",
       "      <th>1</th>\n",
       "      <td>44816</td>\n",
       "      <td>term standard model le npov think wed prefer n...</td>\n",
       "      <td>2002</td>\n",
       "      <td>False</td>\n",
       "      <td>article</td>\n",
       "      <td>random</td>\n",
       "      <td>train</td>\n",
       "      <td>False</td>\n",
       "    </tr>\n",
       "    <tr>\n",
       "      <th>2</th>\n",
       "      <td>49851</td>\n",
       "      <td>true fals situat march saudi propos land peac ...</td>\n",
       "      <td>2002</td>\n",
       "      <td>False</td>\n",
       "      <td>article</td>\n",
       "      <td>random</td>\n",
       "      <td>train</td>\n",
       "      <td>False</td>\n",
       "    </tr>\n",
       "    <tr>\n",
       "      <th>3</th>\n",
       "      <td>89320</td>\n",
       "      <td>next mayb could work le condescend suggest rea...</td>\n",
       "      <td>2002</td>\n",
       "      <td>True</td>\n",
       "      <td>article</td>\n",
       "      <td>random</td>\n",
       "      <td>dev</td>\n",
       "      <td>False</td>\n",
       "    </tr>\n",
       "    <tr>\n",
       "      <th>4</th>\n",
       "      <td>93890</td>\n",
       "      <td>page need disambigu</td>\n",
       "      <td>2002</td>\n",
       "      <td>True</td>\n",
       "      <td>article</td>\n",
       "      <td>random</td>\n",
       "      <td>train</td>\n",
       "      <td>False</td>\n",
       "    </tr>\n",
       "  </tbody>\n",
       "</table>\n",
       "</div>"
      ],
      "text/plain": [
       "   rev_id                                            comment  year  logged_in  \\\n",
       "0   37675  creativ dictionari definit term insur ensur pr...  2002      False   \n",
       "1   44816  term standard model le npov think wed prefer n...  2002      False   \n",
       "2   49851  true fals situat march saudi propos land peac ...  2002      False   \n",
       "3   89320  next mayb could work le condescend suggest rea...  2002       True   \n",
       "4   93890                                page need disambigu  2002       True   \n",
       "\n",
       "        ns  sample  split  attack  \n",
       "0  article  random  train   False  \n",
       "1  article  random  train   False  \n",
       "2  article  random  train   False  \n",
       "3  article  random    dev   False  \n",
       "4  article  random  train   False  "
      ]
     },
     "execution_count": 239,
     "metadata": {},
     "output_type": "execute_result"
    }
   ],
   "source": [
    "comments.head()"
   ]
  },
  {
   "cell_type": "code",
   "execution_count": 240,
   "id": "95152252",
   "metadata": {},
   "outputs": [],
   "source": [
    "X = comments['comment']\n",
    "Y = comments['attack']\n",
    "# Y=Y.astype('int')"
   ]
  },
  {
   "cell_type": "code",
   "execution_count": 241,
   "id": "93277b0c",
   "metadata": {},
   "outputs": [],
   "source": [
    "vectorizer = CountVectorizer()\n",
    "X = vectorizer.fit_transform(X)"
   ]
  },
  {
   "cell_type": "code",
   "execution_count": 242,
   "id": "15637ab1",
   "metadata": {},
   "outputs": [],
   "source": [
    "x_train,x_test , y_train, y_test = train_test_split(X, Y, test_size=0.2, random_state=1)"
   ]
  },
  {
   "cell_type": "code",
   "execution_count": 243,
   "id": "c53fc2bc",
   "metadata": {},
   "outputs": [
    {
     "data": {
      "text/plain": [
       "(72474, 119638)"
      ]
     },
     "execution_count": 243,
     "metadata": {},
     "output_type": "execute_result"
    }
   ],
   "source": [
    "x_train.shape"
   ]
  },
  {
   "cell_type": "markdown",
   "id": "66a451d8",
   "metadata": {},
   "source": [
    "# K fold Cross Validation\n",
    "### k = 10"
   ]
  },
  {
   "cell_type": "code",
   "execution_count": 267,
   "id": "bef9bee1",
   "metadata": {},
   "outputs": [],
   "source": [
    "# A function for cross valication\n",
    "def cross_validation(model, _X, _y, _cv=10):\n",
    "    _scoring = ['accuracy', 'precision', 'recall', 'f1']\n",
    "    results = cross_validate(estimator=model,\n",
    "                               X=_X,\n",
    "                               y=_y,\n",
    "                               cv=_cv,\n",
    "                               scoring=_scoring,\n",
    "                               return_train_score=True)\n",
    "    return {\"Training Accuracy scores\": results['train_accuracy'],\n",
    "              \"Mean Training Accuracy\": results['train_accuracy'].mean()*100,\n",
    "              \"Training Precision scores\": results['train_precision'],\n",
    "              \"Mean Training Precision\": results['train_precision'].mean(),\n",
    "              \"Training Recall scores\": results['train_recall'],\n",
    "              \"Mean Training Recall\": results['train_recall'].mean(),\n",
    "              \"Training F1 scores\": results['train_f1'],\n",
    "              \"Mean Training F1 Score\": results['train_f1'].mean(),\n",
    "              \"Validation Accuracy scores\": results['test_accuracy'],\n",
    "              \"Mean Validation Accuracy\": results['test_accuracy'].mean()*100,\n",
    "              \"Validation Precision scores\": results['test_precision'],\n",
    "              \"Mean Validation Precision\": results['test_precision'].mean(),\n",
    "              \"Validation Recall scores\": results['test_recall'],\n",
    "              \"Mean Validation Recall\": results['test_recall'].mean(),\n",
    "              \"Validation F1 scores\": results['test_f1'],\n",
    "              \"Mean Validation F1 Score\": results['test_f1'].mean()\n",
    "              }"
   ]
  },
  {
   "cell_type": "markdown",
   "id": "f2485a3f",
   "metadata": {},
   "source": [
    "# Model 1 : Logistic Regression"
   ]
  },
  {
   "cell_type": "code",
   "execution_count": 245,
   "id": "f01ba2c7",
   "metadata": {},
   "outputs": [
    {
     "data": {
      "text/plain": [
       "LogisticRegression(class_weight='balanced', max_iter=10000)"
      ]
     },
     "execution_count": 245,
     "metadata": {},
     "output_type": "execute_result"
    }
   ],
   "source": [
    "log_reg = LogisticRegression(solver='lbfgs',class_weight='balanced', max_iter=10000)\n",
    "log_reg.fit(x_train,y_train)"
   ]
  },
  {
   "cell_type": "code",
   "execution_count": 246,
   "id": "231a7e7a",
   "metadata": {},
   "outputs": [],
   "source": [
    "LR_res = log_reg.predict(x_test)"
   ]
  },
  {
   "cell_type": "code",
   "execution_count": 247,
   "id": "ef7c76e5",
   "metadata": {},
   "outputs": [
    {
     "name": "stdout",
     "output_type": "stream",
     "text": [
      "              precision    recall  f1-score   support\n",
      "\n",
      "       False       0.95      0.97      0.96     15515\n",
      "        True       0.78      0.67      0.72      2604\n",
      "\n",
      "    accuracy                           0.93     18119\n",
      "   macro avg       0.86      0.82      0.84     18119\n",
      "weighted avg       0.92      0.93      0.92     18119\n",
      "\n"
     ]
    }
   ],
   "source": [
    "print(classification_report(LR_res, y_test))"
   ]
  },
  {
   "cell_type": "code",
   "execution_count": 248,
   "id": "0b44ec6c",
   "metadata": {},
   "outputs": [
    {
     "name": "stdout",
     "output_type": "stream",
     "text": [
      "[[15025   853]\n",
      " [  490  1751]]\n"
     ]
    }
   ],
   "source": [
    "#Confusion matrix\n",
    "cf_matrix_LR = confusion_matrix(y_test, LR_res)\n",
    "print(cf_matrix_LR)"
   ]
  },
  {
   "cell_type": "code",
   "execution_count": 249,
   "id": "a3aa0a29",
   "metadata": {},
   "outputs": [
    {
     "data": {
      "text/plain": [
       "<AxesSubplot:>"
      ]
     },
     "execution_count": 249,
     "metadata": {},
     "output_type": "execute_result"
    },
    {
     "data": {
      "image/png": "[encoded data removed]",
      "text/plain": [
       "<Figure size 432x288 with 2 Axes>"
      ]
     },
     "metadata": {
      "needs_background": "light"
     },
     "output_type": "display_data"
    }
   ],
   "source": [
    "# Plotting Confusion matrix\n",
    "group_names = ['True Neg','False Pos','False Neg','True Pos']\n",
    "group_percentages = [\"{0:.2%}\".format(value) for value in\n",
    "                     cf_matrix_LR.flatten()/np.sum(cf_matrix_LR)]\n",
    "labels = [f\"{v1}\\n{v2}\" for v1, v2 in\n",
    "          zip(group_names,group_percentages)]\n",
    "labels = np.asarray(labels).reshape(2,2)\n",
    "sns.heatmap(cf_matrix_LR, annot=labels, fmt='', cmap='Blues')"
   ]
  },
  {
   "cell_type": "code",
   "execution_count": 270,
   "id": "1d4b3713",
   "metadata": {},
   "outputs": [
    {
     "name": "stdout",
     "output_type": "stream",
     "text": [
      "{'Training Accuracy scores': array([0.96807428, 0.96831958, 0.96784124, 0.96800108, 0.96812373,\n",
      "       0.96829544, 0.96846714, 0.96825864, 0.96839355, 0.96811146]), 'Mean Training Accuracy': 96.81886136275602, 'Training Precision scores': array([0.80154856, 0.802492  , 0.80067312, 0.80055402, 0.8013785 ,\n",
      "       0.80171328, 0.80316685, 0.80242547, 0.80305073, 0.80210704]), 'Mean Training Precision': 0.8019109560803033, 'Training Recall scores': array([0.97492067, 0.97573958, 0.97410175, 0.97615148, 0.97584442,\n",
      "       0.97707267, 0.97604913, 0.9752303 , 0.97543249, 0.97420412]), 'Mean Training Recall': 0.9754746611935294, 'Training F1 scores': array([0.87977461, 0.88067631, 0.87891383, 0.87967532, 0.880048  ,\n",
      "       0.88074918, 0.8812087 , 0.88042876, 0.88088745, 0.8798188 ]), 'Mean Training F1 Score': 0.8802180956840955, 'Validation Accuracy scores': array([0.92373068, 0.92251656, 0.92317881, 0.9242742 , 0.92096258,\n",
      "       0.91687824, 0.93056629, 0.91930677, 0.93023513, 0.92968319]), 'Mean Validation Accuracy': 92.41332439999056, 'Validation Precision scores': array([0.66122449, 0.6540931 , 0.64233577, 0.65896414, 0.63556209,\n",
      "       0.6199422 , 0.67246596, 0.63248503, 0.68760331, 0.68786611]), 'Mean Validation Precision': 0.6552542185969153, 'Validation Recall scores': array([0.74585635, 0.75046041, 0.81031308, 0.76221198, 0.79723502,\n",
      "       0.79078341, 0.81935484, 0.77880184, 0.76611418, 0.75690608]), 'Mean Validation Recall': 0.7778037188855225, 'Validation F1 scores': array([0.70099524, 0.69897084, 0.71661238, 0.70683761, 0.70727719,\n",
      "       0.69501823, 0.73867885, 0.69805865, 0.72473868, 0.72073652]), 'Mean Validation F1 Score': 0.7107924180392904}\n"
     ]
    }
   ],
   "source": [
    "print(cross_validation(log_reg, X, Y))"
   ]
  },
  {
   "cell_type": "markdown",
   "id": "ba12276c",
   "metadata": {},
   "source": [
    "# Model 2 : Multinomial Naive Bayes"
   ]
  },
  {
   "cell_type": "code",
   "execution_count": 251,
   "id": "26b878ec",
   "metadata": {},
   "outputs": [
    {
     "data": {
      "text/plain": [
       "MultinomialNB()"
      ]
     },
     "execution_count": 251,
     "metadata": {},
     "output_type": "execute_result"
    }
   ],
   "source": [
    "NB = MultinomialNB()\n",
    "NB.fit(x_train, y_train)"
   ]
  },
  {
   "cell_type": "code",
   "execution_count": 252,
   "id": "d58cfe2e",
   "metadata": {},
   "outputs": [],
   "source": [
    "NB_res = NB.predict(x_test)"
   ]
  },
  {
   "cell_type": "code",
   "execution_count": 253,
   "id": "4ad66a2a",
   "metadata": {},
   "outputs": [
    {
     "name": "stdout",
     "output_type": "stream",
     "text": [
      "              precision    recall  f1-score   support\n",
      "\n",
      "       False       0.97      0.94      0.96     16379\n",
      "        True       0.58      0.75      0.65      1740\n",
      "\n",
      "    accuracy                           0.92     18119\n",
      "   macro avg       0.78      0.84      0.80     18119\n",
      "weighted avg       0.93      0.92      0.93     18119\n",
      "\n"
     ]
    }
   ],
   "source": [
    "print(classification_report(NB_res, y_test))"
   ]
  },
  {
   "cell_type": "code",
   "execution_count": 254,
   "id": "3f925251",
   "metadata": {},
   "outputs": [
    {
     "name": "stdout",
     "output_type": "stream",
     "text": [
      "[[15435   443]\n",
      " [  944  1297]]\n"
     ]
    }
   ],
   "source": [
    "#Confusion matrix\n",
    "cf_matrix_NB = confusion_matrix(y_test, NB_res)\n",
    "print(cf_matrix_NB)"
   ]
  },
  {
   "cell_type": "code",
   "execution_count": 255,
   "id": "9b4a4e15",
   "metadata": {},
   "outputs": [
    {
     "data": {
      "text/plain": [
       "<AxesSubplot:>"
      ]
     },
     "execution_count": 255,
     "metadata": {},
     "output_type": "execute_result"
    },
    {
     "data": {
      "image/png": "[encoded data removed]",
      "text/plain": [
       "<Figure size 432x288 with 2 Axes>"
      ]
     },
     "metadata": {
      "needs_background": "light"
     },
     "output_type": "display_data"
    }
   ],
   "source": [
    "#Plotting confusion matrix\n",
    "group_names = ['True Neg','False Pos','False Neg','True Pos']\n",
    "group_percentages = [\"{0:.2%}\".format(value) for value in\n",
    "                     cf_matrix_NB.flatten()/np.sum(cf_matrix_NB)]\n",
    "labels = [f\"{v1}\\n{v2}\" for v1, v2 in\n",
    "          zip(group_names,group_percentages)]\n",
    "labels = np.asarray(labels).reshape(2,2)\n",
    "sns.heatmap(cf_matrix_NB, annot=labels, fmt='', cmap='Blues')"
   ]
  },
  {
   "cell_type": "code",
   "execution_count": 256,
   "id": "517d86cc",
   "metadata": {},
   "outputs": [
    {
     "name": "stdout",
     "output_type": "stream",
     "text": [
      "{'Training Accuracy scores': array([0.94225651, 0.94204801, 0.941631  , 0.9414968 , 0.94197513,\n",
      "       0.94201192, 0.9412515 , 0.94187701, 0.94116565, 0.94143547]), 'Mean Training Accuracy': 94.17148992267161, 'Training Precision scores': array([0.82867905, 0.82275403, 0.82899921, 0.82894737, 0.824636  ,\n",
      "       0.82237852, 0.81376008, 0.825042  , 0.82411995, 0.83020365]), 'Mean Training Precision': 0.8249519851403418, 'Training Recall scores': array([0.65308629, 0.65810216, 0.6461255 , 0.64483112, 0.65506653,\n",
      "       0.65823951, 0.66100307, 0.65353122, 0.64704678, 0.6426451 ]), 'Mean Training Recall': 0.6519677277976949, 'Training F1 scores': array([0.73047859, 0.73127453, 0.72622677, 0.7253886 , 0.73013519,\n",
      "       0.73121092, 0.72947024, 0.7293392 , 0.72492689, 0.72448214]), 'Mean Training F1 Score': 0.7282933057557852, 'Validation Accuracy scores': array([0.9192053 , 0.91898455, 0.92593819, 0.92261839, 0.92283917,\n",
      "       0.92913125, 0.92891048, 0.92394304, 0.92703389, 0.92085219]), 'Mean Validation Accuracy': 92.39456438013542, 'Validation Precision scores': array([0.71532847, 0.701373  , 0.72978959, 0.72748815, 0.70619658,\n",
      "       0.72717949, 0.72897196, 0.72048998, 0.74285714, 0.7038674 ]), 'Mean Validation Precision': 0.7203541761671666, 'Validation Recall scores': array([0.54143646, 0.56445672, 0.606814  , 0.56589862, 0.60921659,\n",
      "       0.65345622, 0.64700461, 0.59631336, 0.5985267 , 0.58655617]), 'Mean Validation Recall': 0.5969679456170277, 'Validation F1 scores': array([0.6163522 , 0.6255102 , 0.66264454, 0.63659927, 0.65413162,\n",
      "       0.68834951, 0.68554688, 0.65254665, 0.66292708, 0.63987946]), 'Mean Validation F1 Score': 0.6524487414221971}\n"
     ]
    }
   ],
   "source": [
    "# Cross validation for Naive bayes\n",
    "print(cross_validation(NB, X, Y))"
   ]
  },
  {
   "cell_type": "markdown",
   "id": "64dc8b4c",
   "metadata": {},
   "source": [
    "# Model 3 : Random Forest Classifier"
   ]
  },
  {
   "cell_type": "code",
   "execution_count": 271,
   "id": "83e48bcb",
   "metadata": {},
   "outputs": [
    {
     "data": {
      "text/plain": [
       "RandomForestClassifier()"
      ]
     },
     "execution_count": 271,
     "metadata": {},
     "output_type": "execute_result"
    }
   ],
   "source": [
    "RF = RandomForestClassifier()\n",
    "RF.fit(x_train, y_train)"
   ]
  },
  {
   "cell_type": "code",
   "execution_count": 272,
   "id": "76b4474d",
   "metadata": {},
   "outputs": [],
   "source": [
    "RF_res = RF.predict(x_test)"
   ]
  },
  {
   "cell_type": "code",
   "execution_count": 273,
   "id": "f2be0bc5",
   "metadata": {},
   "outputs": [
    {
     "name": "stdout",
     "output_type": "stream",
     "text": [
      "              precision    recall  f1-score   support\n",
      "\n",
      "       False       0.99      0.94      0.96     16767\n",
      "        True       0.54      0.89      0.67      1352\n",
      "\n",
      "    accuracy                           0.93     18119\n",
      "   macro avg       0.76      0.91      0.82     18119\n",
      "weighted avg       0.96      0.93      0.94     18119\n",
      "\n"
     ]
    }
   ],
   "source": [
    "print(classification_report(RF_res, y_test))"
   ]
  },
  {
   "cell_type": "code",
   "execution_count": 274,
   "id": "e7ce4214",
   "metadata": {},
   "outputs": [
    {
     "name": "stdout",
     "output_type": "stream",
     "text": [
      "[[15728   150]\n",
      " [ 1039  1202]]\n"
     ]
    }
   ],
   "source": [
    "#Confusion matrix\n",
    "cf_matrix_RF = confusion_matrix(y_test, RF_res)\n",
    "print(cf_matrix_RF)"
   ]
  },
  {
   "cell_type": "code",
   "execution_count": 275,
   "id": "b40db62c",
   "metadata": {},
   "outputs": [
    {
     "data": {
      "text/plain": [
       "<AxesSubplot:>"
      ]
     },
     "execution_count": 275,
     "metadata": {},
     "output_type": "execute_result"
    },
    {
     "data": {
      "image/png": "[encoded data removed]",
      "text/plain": [
       "<Figure size 432x288 with 2 Axes>"
      ]
     },
     "metadata": {
      "needs_background": "light"
     },
     "output_type": "display_data"
    }
   ],
   "source": [
    "# Plotting the confusin matrix\n",
    "group_names = ['True Neg','False Pos','False Neg','True Pos']\n",
    "group_percentages = [\"{0:.2%}\".format(value) for value in\n",
    "                     cf_matrix_RF.flatten()/np.sum(cf_matrix_RF)]\n",
    "labels = [f\"{v1}\\n{v2}\" for v1, v2 in\n",
    "          zip(group_names,group_percentages)]\n",
    "labels = np.asarray(labels).reshape(2,2)\n",
    "sns.heatmap(cf_matrix_RF, annot=labels, fmt='', cmap='Blues')"
   ]
  },
  {
   "cell_type": "code",
   "execution_count": 290,
   "id": "12c6cf7a",
   "metadata": {},
   "outputs": [
    {
     "name": "stdout",
     "output_type": "stream",
     "text": [
      "{'Training Accuracy scores': array([0.99961672, 0.99954006, 0.99954006, 0.99952473, 0.99958606,\n",
      "       0.99960139, 0.99960139, 0.99949407, 0.99947874, 0.99961672]), 'Mean Training Accuracy': 99.95599954337439, 'Training Precision scores': array([0.99883796, 0.99883721, 0.99870834, 0.99896601, 0.99845161,\n",
      "       0.99909572, 0.99922471, 0.99870801, 0.99857899, 0.99832345]), 'Mean Training Precision': 0.9987732015135519, 'Training Recall scores': array([0.99793602, 0.99729102, 0.99742002, 0.99703302, 0.99806527,\n",
      "       0.99754934, 0.99742035, 0.99703341, 0.99703341, 0.99845221]), 'Mean Training Recall': 0.9975234061664203, 'Training F1 scores': array([0.99838678, 0.99806352, 0.99806377, 0.99799858, 0.9982584 ,\n",
      "       0.99832193, 0.99832171, 0.99787001, 0.9978056 , 0.99838782]), 'Mean Training F1 Score': 0.9981478127383185, 'Validation Accuracy scores': array([0.93529249, 0.9334989 , 0.93460265, 0.93543046, 0.93983717,\n",
      "       0.9372154 , 0.93569753, 0.93887126, 0.93473161, 0.9348696 ]), 'Mean Validation Accuracy': 93.6004707816982, 'Validation Precision scores': array([0.87571702, 0.89583333, 0.8605948 , 0.87030075, 0.9047619 ,\n",
      "       0.88740458, 0.88499025, 0.90038314, 0.88339921, 0.87047619]), 'Mean Validation Precision': 0.8833861178011171, 'Validation Recall scores': array([0.53132251, 0.49883991, 0.53712297, 0.53712297, 0.55168409,\n",
      "       0.54006969, 0.52729384, 0.54587689, 0.51916376, 0.53077816]), 'Mean Validation Recall': 0.5319274787046844, 'Validation F1 scores': array([0.66137184, 0.64083458, 0.66142857, 0.66427547, 0.68542569,\n",
      "       0.67148014, 0.66084425, 0.67968185, 0.65398683, 0.65945166]), 'Mean Validation F1 Score': 0.6638780877302592}\n"
     ]
    }
   ],
   "source": [
    "# Cross validation for Random Forest Classifier\n",
    "print(cross_validation(RF, x_train, y_train))"
   ]
  },
  {
   "cell_type": "markdown",
   "id": "97cc30a8",
   "metadata": {},
   "source": [
    "# Hyperparameter Tuning"
   ]
  },
  {
   "cell_type": "code",
   "execution_count": 194,
   "id": "61b0214d",
   "metadata": {},
   "outputs": [],
   "source": [
    "model = log_reg\n",
    "grid_vals = {'penalty': ['l1','l2'], 'C': [0.001,0.01,0.1,1]}\n",
    "grid_lr = GridSearchCV(estimator=model, param_grid=grid_vals, scoring='accuracy', \n",
    "                       cv=6, refit=True, return_train_score=True, verbose=10) "
   ]
  },
  {
   "cell_type": "code",
   "execution_count": 195,
   "id": "1b47a10c",
   "metadata": {},
   "outputs": [
    {
     "name": "stdout",
     "output_type": "stream",
     "text": [
      "Fitting 6 folds for each of 8 candidates, totalling 48 fits\n",
      "[CV 1/6; 1/8] START C=0.001, penalty=l1.........................................\n",
      "[CV 1/6; 1/8] END C=0.001, penalty=l1;, score=(train=nan, test=nan) total time=   0.1s\n",
      "[CV 2/6; 1/8] START C=0.001, penalty=l1.........................................\n",
      "[CV 2/6; 1/8] END C=0.001, penalty=l1;, score=(train=nan, test=nan) total time=   0.0s\n",
      "[CV 3/6; 1/8] START C=0.001, penalty=l1.........................................\n",
      "[CV 3/6; 1/8] END C=0.001, penalty=l1;, score=(train=nan, test=nan) total time=   0.0s\n",
      "[CV 4/6; 1/8] START C=0.001, penalty=l1.........................................\n",
      "[CV 4/6; 1/8] END C=0.001, penalty=l1;, score=(train=nan, test=nan) total time=   0.0s\n",
      "[CV 5/6; 1/8] START C=0.001, penalty=l1.........................................\n",
      "[CV 5/6; 1/8] END C=0.001, penalty=l1;, score=(train=nan, test=nan) total time=   0.0s\n",
      "[CV 6/6; 1/8] START C=0.001, penalty=l1.........................................\n",
      "[CV 6/6; 1/8] END C=0.001, penalty=l1;, score=(train=nan, test=nan) total time=   0.0s\n",
      "[CV 1/6; 2/8] START C=0.001, penalty=l2.........................................\n",
      "[CV 1/6; 2/8] END C=0.001, penalty=l2;, score=(train=0.893, test=0.890) total time=   4.2s\n",
      "[CV 2/6; 2/8] START C=0.001, penalty=l2.........................................\n",
      "[CV 2/6; 2/8] END C=0.001, penalty=l2;, score=(train=0.890, test=0.883) total time=   3.9s\n",
      "[CV 3/6; 2/8] START C=0.001, penalty=l2.........................................\n",
      "[CV 3/6; 2/8] END C=0.001, penalty=l2;, score=(train=0.891, test=0.883) total time=   3.9s\n",
      "[CV 4/6; 2/8] START C=0.001, penalty=l2.........................................\n",
      "[CV 4/6; 2/8] END C=0.001, penalty=l2;, score=(train=0.892, test=0.891) total time=   4.4s\n",
      "[CV 5/6; 2/8] START C=0.001, penalty=l2.........................................\n",
      "[CV 5/6; 2/8] END C=0.001, penalty=l2;, score=(train=0.891, test=0.887) total time=   4.0s\n",
      "[CV 6/6; 2/8] START C=0.001, penalty=l2.........................................\n",
      "[CV 6/6; 2/8] END C=0.001, penalty=l2;, score=(train=0.890, test=0.888) total time=   4.5s\n",
      "[CV 1/6; 3/8] START C=0.01, penalty=l1..........................................\n",
      "[CV 1/6; 3/8] END C=0.01, penalty=l1;, score=(train=nan, test=nan) total time=   0.0s\n",
      "[CV 2/6; 3/8] START C=0.01, penalty=l1..........................................\n",
      "[CV 2/6; 3/8] END C=0.01, penalty=l1;, score=(train=nan, test=nan) total time=   0.0s\n",
      "[CV 3/6; 3/8] START C=0.01, penalty=l1..........................................\n",
      "[CV 3/6; 3/8] END C=0.01, penalty=l1;, score=(train=nan, test=nan) total time=   0.0s\n",
      "[CV 4/6; 3/8] START C=0.01, penalty=l1..........................................\n",
      "[CV 4/6; 3/8] END C=0.01, penalty=l1;, score=(train=nan, test=nan) total time=   0.0s\n",
      "[CV 5/6; 3/8] START C=0.01, penalty=l1..........................................\n",
      "[CV 5/6; 3/8] END C=0.01, penalty=l1;, score=(train=nan, test=nan) total time=   0.0s\n",
      "[CV 6/6; 3/8] START C=0.01, penalty=l1..........................................\n",
      "[CV 6/6; 3/8] END C=0.01, penalty=l1;, score=(train=nan, test=nan) total time=   0.0s\n",
      "[CV 1/6; 4/8] START C=0.01, penalty=l2..........................................\n",
      "[CV 1/6; 4/8] END C=0.01, penalty=l2;, score=(train=0.923, test=0.914) total time=  14.4s\n",
      "[CV 2/6; 4/8] START C=0.01, penalty=l2..........................................\n",
      "[CV 2/6; 4/8] END C=0.01, penalty=l2;, score=(train=0.922, test=0.909) total time=  11.0s\n",
      "[CV 3/6; 4/8] START C=0.01, penalty=l2..........................................\n",
      "[CV 3/6; 4/8] END C=0.01, penalty=l2;, score=(train=0.922, test=0.909) total time=   7.2s\n",
      "[CV 4/6; 4/8] START C=0.01, penalty=l2..........................................\n",
      "[CV 4/6; 4/8] END C=0.01, penalty=l2;, score=(train=0.921, test=0.919) total time=   8.9s\n",
      "[CV 5/6; 4/8] START C=0.01, penalty=l2..........................................\n",
      "[CV 5/6; 4/8] END C=0.01, penalty=l2;, score=(train=0.923, test=0.910) total time=   9.6s\n",
      "[CV 6/6; 4/8] START C=0.01, penalty=l2..........................................\n",
      "[CV 6/6; 4/8] END C=0.01, penalty=l2;, score=(train=0.922, test=0.910) total time=  10.5s\n",
      "[CV 1/6; 5/8] START C=0.1, penalty=l1...........................................\n",
      "[CV 1/6; 5/8] END C=0.1, penalty=l1;, score=(train=nan, test=nan) total time=   0.0s\n",
      "[CV 2/6; 5/8] START C=0.1, penalty=l1...........................................\n",
      "[CV 2/6; 5/8] END C=0.1, penalty=l1;, score=(train=nan, test=nan) total time=   0.0s\n",
      "[CV 3/6; 5/8] START C=0.1, penalty=l1...........................................\n",
      "[CV 3/6; 5/8] END C=0.1, penalty=l1;, score=(train=nan, test=nan) total time=   0.0s\n",
      "[CV 4/6; 5/8] START C=0.1, penalty=l1...........................................\n",
      "[CV 4/6; 5/8] END C=0.1, penalty=l1;, score=(train=nan, test=nan) total time=   0.0s\n",
      "[CV 5/6; 5/8] START C=0.1, penalty=l1...........................................\n",
      "[CV 5/6; 5/8] END C=0.1, penalty=l1;, score=(train=nan, test=nan) total time=   0.0s\n",
      "[CV 6/6; 5/8] START C=0.1, penalty=l1...........................................\n",
      "[CV 6/6; 5/8] END C=0.1, penalty=l1;, score=(train=nan, test=nan) total time=   0.0s\n",
      "[CV 1/6; 6/8] START C=0.1, penalty=l2...........................................\n",
      "[CV 1/6; 6/8] END C=0.1, penalty=l2;, score=(train=0.947, test=0.923) total time=  23.2s\n",
      "[CV 2/6; 6/8] START C=0.1, penalty=l2...........................................\n",
      "[CV 2/6; 6/8] END C=0.1, penalty=l2;, score=(train=0.948, test=0.923) total time=  23.1s\n",
      "[CV 3/6; 6/8] START C=0.1, penalty=l2...........................................\n",
      "[CV 3/6; 6/8] END C=0.1, penalty=l2;, score=(train=0.947, test=0.920) total time=  18.9s\n",
      "[CV 4/6; 6/8] START C=0.1, penalty=l2...........................................\n",
      "[CV 4/6; 6/8] END C=0.1, penalty=l2;, score=(train=0.947, test=0.928) total time=  23.5s\n",
      "[CV 5/6; 6/8] START C=0.1, penalty=l2...........................................\n",
      "[CV 5/6; 6/8] END C=0.1, penalty=l2;, score=(train=0.947, test=0.923) total time=  21.8s\n",
      "[CV 6/6; 6/8] START C=0.1, penalty=l2...........................................\n",
      "[CV 6/6; 6/8] END C=0.1, penalty=l2;, score=(train=0.948, test=0.921) total time=  25.6s\n",
      "[CV 1/6; 7/8] START C=1, penalty=l1.............................................\n",
      "[CV 1/6; 7/8] END C=1, penalty=l1;, score=(train=nan, test=nan) total time=   0.0s\n",
      "[CV 2/6; 7/8] START C=1, penalty=l1.............................................\n",
      "[CV 2/6; 7/8] END C=1, penalty=l1;, score=(train=nan, test=nan) total time=   0.0s\n",
      "[CV 3/6; 7/8] START C=1, penalty=l1.............................................\n",
      "[CV 3/6; 7/8] END C=1, penalty=l1;, score=(train=nan, test=nan) total time=   0.0s\n",
      "[CV 4/6; 7/8] START C=1, penalty=l1.............................................\n",
      "[CV 4/6; 7/8] END C=1, penalty=l1;, score=(train=nan, test=nan) total time=   0.0s\n",
      "[CV 5/6; 7/8] START C=1, penalty=l1.............................................\n",
      "[CV 5/6; 7/8] END C=1, penalty=l1;, score=(train=nan, test=nan) total time=   0.0s\n",
      "[CV 6/6; 7/8] START C=1, penalty=l1.............................................\n",
      "[CV 6/6; 7/8] END C=1, penalty=l1;, score=(train=nan, test=nan) total time=   0.0s\n",
      "[CV 1/6; 8/8] START C=1, penalty=l2.............................................\n",
      "[CV 1/6; 8/8] END C=1, penalty=l2;, score=(train=0.972, test=0.924) total time=  58.5s\n",
      "[CV 2/6; 8/8] START C=1, penalty=l2.............................................\n",
      "[CV 2/6; 8/8] END C=1, penalty=l2;, score=(train=0.973, test=0.925) total time= 1.1min\n",
      "[CV 3/6; 8/8] START C=1, penalty=l2.............................................\n",
      "[CV 3/6; 8/8] END C=1, penalty=l2;, score=(train=0.971, test=0.925) total time=  59.9s\n",
      "[CV 4/6; 8/8] START C=1, penalty=l2.............................................\n",
      "[CV 4/6; 8/8] END C=1, penalty=l2;, score=(train=0.971, test=0.929) total time= 1.1min\n",
      "[CV 5/6; 8/8] START C=1, penalty=l2.............................................\n",
      "[CV 5/6; 8/8] END C=1, penalty=l2;, score=(train=0.972, test=0.924) total time= 1.1min\n",
      "[CV 6/6; 8/8] START C=1, penalty=l2.............................................\n",
      "[CV 6/6; 8/8] END C=1, penalty=l2;, score=(train=0.972, test=0.926) total time=  59.4s\n"
     ]
    },
    {
     "name": "stderr",
     "output_type": "stream",
     "text": [
      "/Library/Frameworks/Python.framework/Versions/3.7/lib/python3.7/site-packages/sklearn/model_selection/_validation.py:372: FitFailedWarning: \n",
      "24 fits failed out of a total of 48.\n",
      "The score on these train-test partitions for these parameters will be set to nan.\n",
      "If these failures are not expected, you can try to debug them by setting error_score='raise'.\n",
      "\n",
      "Below are more details about the failures:\n",
      "--------------------------------------------------------------------------------\n",
      "24 fits failed with the following error:\n",
      "Traceback (most recent call last):\n",
      "  File \"/Library/Frameworks/Python.framework/Versions/3.7/lib/python3.7/site-packages/sklearn/model_selection/_validation.py\", line 680, in _fit_and_score\n",
      "    estimator.fit(X_train, y_train, **fit_params)\n",
      "  File \"/Library/Frameworks/Python.framework/Versions/3.7/lib/python3.7/site-packages/sklearn/linear_model/_logistic.py\", line 1461, in fit\n",
      "    solver = _check_solver(self.solver, self.penalty, self.dual)\n",
      "  File \"/Library/Frameworks/Python.framework/Versions/3.7/lib/python3.7/site-packages/sklearn/linear_model/_logistic.py\", line 449, in _check_solver\n",
      "    % (solver, penalty)\n",
      "ValueError: Solver lbfgs supports only 'l2' or 'none' penalties, got l1 penalty.\n",
      "\n",
      "  warnings.warn(some_fits_failed_message, FitFailedWarning)\n",
      "/Library/Frameworks/Python.framework/Versions/3.7/lib/python3.7/site-packages/sklearn/model_selection/_search.py:972: UserWarning: One or more of the test scores are non-finite: [       nan 0.88700775        nan 0.91202362        nan 0.92308966\n",
      "        nan 0.92555951]\n",
      "  category=UserWarning,\n",
      "/Library/Frameworks/Python.framework/Versions/3.7/lib/python3.7/site-packages/sklearn/model_selection/_search.py:972: UserWarning: One or more of the train scores are non-finite: [       nan 0.89109474        nan 0.92225902        nan 0.94728592\n",
      "        nan 0.971645  ]\n",
      "  category=UserWarning,\n"
     ]
    }
   ],
   "source": [
    "#Training and Prediction\n",
    "\n",
    "grid_lr.fit(x_train, y_train)\n",
    "preds = grid_lr.best_estimator_.predict(x_test)"
   ]
  },
  {
   "cell_type": "code",
   "execution_count": 372,
   "id": "e6d8390f",
   "metadata": {},
   "outputs": [
    {
     "name": "stdout",
     "output_type": "stream",
     "text": [
      "{'C': 1, 'penalty': 'l2'}\n"
     ]
    }
   ],
   "source": [
    "print(grid_lr.best_params_)"
   ]
  },
  {
   "cell_type": "code",
   "execution_count": 343,
   "id": "730c6667",
   "metadata": {},
   "outputs": [
    {
     "name": "stdout",
     "output_type": "stream",
     "text": [
      "Accuracy - : 0.969\n"
     ]
    }
   ],
   "source": [
    "model = LogisticRegression(penalty='l2', C=1, max_iter=10000).fit(x_train,y_train)\n",
    "print (f'Accuracy - : {grid_lr.score(x_train,y_train):.3f}')"
   ]
  },
  {
   "cell_type": "markdown",
   "id": "5ac2b396",
   "metadata": {},
   "source": [
    "# Question and Answers\n",
    "\n",
    "a.What did you learn from visualizing the data as suggested in Section 2 above?\n",
    "\n",
    "After visualizing the data I found out that :\n",
    "\n",
    "1)Users made more attck comments when they were not logged in\n",
    "\n",
    "2)Majority of the attack comments were seen in the year 2006\n",
    "\n",
    "3)There are more non-attack comments compared to attack comments in the dataset\n",
    "\n",
    "b. What text cleaning methods did you try? Which are the ones you included in the final code?\n",
    "\n",
    "I have tried variety of text cleaning methods :\n",
    "\n",
    "1)Removing newline tokens and tab tokens\n",
    "\n",
    "2)Removing punctuations\n",
    "\n",
    "3)Removing unicode characters\n",
    "\n",
    "4)Removing non-alphabetic characters\n",
    "\n",
    "5)Removing whitespaces\n",
    "\n",
    "6)Removing stopwords\n",
    "\n",
    "c. What are the features you considered using? Which features did you use in the final code? \n",
    "\n",
    "After visualizing the data I found that comments is the main feature that needs to be considered for building the model hence I only used the comments feature from the dataset\n",
    "\n",
    "d. How did you decide to use the ‘attack’ information from different annotators? Did you average them, or use a number threshold, or did you use some other method to use this information?\n",
    "\n",
    "I followed the same method that was given in the strawman code where the mean was taken and if 50% of annotators told it was an attack then it was considered an attack or vice-versa\n",
    "\n",
    "e. Did you add any special optimizations to your code? If so, describe them briefly.\n",
    "\n",
    "Yes, I did add Lemmatization and Stemming which helped me increase the accuracy of my model\n",
    "Lemmatization is a term that means grouping words which have the same root but different derivatives.For instance, to lemmatize the words 'cards' means taking away the suffix 's' to bring the root word 'card'.\n",
    "Stemming is the process of removing variants of a base word. For example, the word 'study' has many forms like 'studies', 'studying','studied' it converts the word to the base form.\n",
    "\n",
    "f. What are the ML methods you tried out, and what were your best results with each method? \n",
    "Which was the best ML method you saw before tuning hyperparameters?\n",
    "\n",
    "I tried five ML Models :\n",
    "\n",
    "1)Logistic Regression\n",
    "\n",
    "2)Multinomial Naive Bayes\n",
    "\n",
    "3)Random Forest Classifier\n",
    "\n",
    "4)SGD Classifier\n",
    "\n",
    "5)Perceptron\n",
    "\n",
    "6)KNeighbours Classifier\n",
    "\n",
    "Out of which I finalized the first 3 for my final code and achieved the best results via Logistic Regression.\n",
    "\n",
    "g. What hyperparameter tuning did you do, and by how many percentage points did your accuracy \n",
    "go up because of hyper-parameter tuning?  \n",
    "\n",
    "I performed hyperparemetre tuning on the best model which is Logistic Regression. I performed tuning using Grid Search CV. My accuracy incresed by 3%\n",
    "\n",
    "h. What did you learn from the different metrics? How useful was it to use cross-validation?\n",
    "\n",
    "The base metric used for model evaluation is accuracy which describes the number of correct predictions over all predictions but it is not the best metric to be considered.\n",
    "Precision is a measure of how many of the positive predictions made are correct which is the true positives.\n",
    "Recall is a measure of how many of the positive cases the model predicted correctly.\n",
    "F1-Score is a measure combining both precision and recall. It is generally described as the harmonic mean/average of the Precison and Recall. I used F1 score to analyze and predict how good my model is while looking at the metrics. Cross validation helped me test the model's accuracy by providing a range of accuracy scores across different data sets. I took k = 10 which divided the dataset into 10 folds.\n",
    "\n",
    "i. What are your best final Result Metrics? What is the increase in accuracy compared to the \n",
    "strawman figure? Which model gave you this performance?\n",
    "\n",
    "               precision    recall  f1-score   support\n",
    "\n",
    "       False       0.95      0.97      0.96     15515\n",
    "        True       0.78      0.67      0.72      2604\n",
    "\n",
    "    accuracy                            0.93     18119\n",
    "    macro avg       0.86      0.82      0.84     18119\n",
    "    weighted avg    0.92      0.93      0.92     18119\n",
    "\n",
    "\n",
    "The above metrics are from Logistic Regression which I have considered as the best model and the below metrics are from the strawman code using Decison Tree Classifier. The F1 score as well as the accuracy has increased.\n",
    "\n",
    "                precision    recall  f1-score   support\n",
    "\n",
    "       False       0.95      0.95      0.95     20422\n",
    "        True       0.65      0.62      0.63      2756\n",
    "\n",
    "    accuracy                            0.91     23178\n",
    "    macro avg       0.80      0.79      0.79     23178\n",
    "    weighted avg    0.91      0.91      0.91     23178\n",
    "\n",
    "j. What is the most interesting thing you learned from doing the report?\n",
    "\n",
    "The thing I enjoyed was trying out different models and looking at the metrics and comparing them to find out the best one. While finalizing the code I had to remove and cut down a lot of cells which made me realise that so much has to be done to reach the finl result and conclusion.\n",
    "\n",
    "k. What was the hardest thing to do?\n",
    "\n",
    "Faced difficulty with Hyperparametre Tuning and it did consume a lot of time. "
   ]
  }
 ],
 "metadata": {
  "kernelspec": {
   "display_name": "Python 3 (ipykernel)",
   "language": "python",
   "name": "python3"
  },
  "language_info": {
   "codemirror_mode": {
    "name": "ipython",
    "version": 3
   },
   "file_extension": ".py",
   "mimetype": "text/x-python",
   "name": "python",
   "nbconvert_exporter": "python",
   "pygments_lexer": "ipython3",
   "version": "3.7.2"
  }
 },
 "nbformat": 4,
 "nbformat_minor": 5
}
